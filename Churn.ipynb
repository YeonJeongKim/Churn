{
 "cells": [
  {
   "cell_type": "code",
   "execution_count": 1,
   "metadata": {
    "_cell_guid": "b1076dfc-b9ad-4769-8c92-a6c4dae69d19",
    "_uuid": "8f2839f25d086af736a60e9eeb907d3b93b6e0e5",
    "colab": {
     "base_uri": "https://localhost:8080/",
     "height": 34
    },
    "colab_type": "code",
    "id": "mSHvKrrwPxaq",
    "outputId": "c1dbe43d-b9cb-431e-990b-a3c893955c1e"
   },
   "outputs": [
    {
     "name": "stderr",
     "output_type": "stream",
     "text": [
      "Using TensorFlow backend.\n",
      "C:\\Users\\SAMSUNG\\Anaconda3\\lib\\site-packages\\matplotlib\\__init__.py:886: MatplotlibDeprecationWarning: \n",
      "examples.directory is deprecated; in the future, examples will be found relative to the 'datapath' directory.\n",
      "  \"found relative to the 'datapath' directory.\".format(key))\n"
     ]
    }
   ],
   "source": [
    "import numpy as np\n",
    "import pandas as pd\n",
    "from sklearn.preprocessing import LabelEncoder\n",
    "from sklearn.model_selection import train_test_split\n",
    "from sklearn.preprocessing import StandardScaler\n",
    "from sklearn.metrics import confusion_matrix , classification_report\n",
    "from keras.models import Sequential\n",
    "from keras.layers import Dense, Dropout\n",
    "import keras.initializers as init\n",
    "import matplotlib.pyplot as plt\n",
    "import seaborn as sns               # (boxplot, contourplot)"
   ]
  },
  {
   "cell_type": "code",
   "execution_count": 3,
   "metadata": {
    "colab": {
     "base_uri": "https://localhost:8080/",
     "height": 34
    },
    "colab_type": "code",
    "id": "9hxlPYIVplEs",
    "outputId": "abb4a8d8-632a-49be-92d1-65b6b5a641cb"
   },
   "outputs": [],
   "source": [
    "df = pd.read_csv('C:/Users/SAMSUNG/Desktop/Churn.csv')"
   ]
  },
  {
   "cell_type": "code",
   "execution_count": 4,
   "metadata": {
    "_uuid": "8c15f9b79f17d975f5c79823d175e0874f9bd139",
    "colab": {
     "base_uri": "https://localhost:8080/",
     "height": 379
    },
    "colab_type": "code",
    "id": "EiT9Gdl7Pxaw",
    "outputId": "81767c2b-4526-477f-aa51-5ce2bf60a02b"
   },
   "outputs": [
    {
     "data": {
      "text/html": [
       "<div>\n",
       "<style scoped>\n",
       "    .dataframe tbody tr th:only-of-type {\n",
       "        vertical-align: middle;\n",
       "    }\n",
       "\n",
       "    .dataframe tbody tr th {\n",
       "        vertical-align: top;\n",
       "    }\n",
       "\n",
       "    .dataframe thead th {\n",
       "        text-align: right;\n",
       "    }\n",
       "</style>\n",
       "<table border=\"1\" class=\"dataframe\">\n",
       "  <thead>\n",
       "    <tr style=\"text-align: right;\">\n",
       "      <th></th>\n",
       "      <th>customerID</th>\n",
       "      <th>gender</th>\n",
       "      <th>SeniorCitizen</th>\n",
       "      <th>Partner</th>\n",
       "      <th>Dependents</th>\n",
       "      <th>tenure</th>\n",
       "      <th>PhoneService</th>\n",
       "      <th>MultipleLines</th>\n",
       "      <th>InternetService</th>\n",
       "      <th>OnlineSecurity</th>\n",
       "      <th>...</th>\n",
       "      <th>DeviceProtection</th>\n",
       "      <th>TechSupport</th>\n",
       "      <th>StreamingTV</th>\n",
       "      <th>StreamingMovies</th>\n",
       "      <th>Contract</th>\n",
       "      <th>PaperlessBilling</th>\n",
       "      <th>PaymentMethod</th>\n",
       "      <th>MonthlyCharges</th>\n",
       "      <th>TotalCharges</th>\n",
       "      <th>Churn</th>\n",
       "    </tr>\n",
       "  </thead>\n",
       "  <tbody>\n",
       "    <tr>\n",
       "      <th>0</th>\n",
       "      <td>7590-VHVEG</td>\n",
       "      <td>Female</td>\n",
       "      <td>0</td>\n",
       "      <td>Yes</td>\n",
       "      <td>No</td>\n",
       "      <td>1</td>\n",
       "      <td>No</td>\n",
       "      <td>No phone service</td>\n",
       "      <td>DSL</td>\n",
       "      <td>No</td>\n",
       "      <td>...</td>\n",
       "      <td>No</td>\n",
       "      <td>No</td>\n",
       "      <td>No</td>\n",
       "      <td>No</td>\n",
       "      <td>Month-to-month</td>\n",
       "      <td>Yes</td>\n",
       "      <td>Electronic check</td>\n",
       "      <td>29.85</td>\n",
       "      <td>29.85</td>\n",
       "      <td>No</td>\n",
       "    </tr>\n",
       "    <tr>\n",
       "      <th>1</th>\n",
       "      <td>5575-GNVDE</td>\n",
       "      <td>Male</td>\n",
       "      <td>0</td>\n",
       "      <td>No</td>\n",
       "      <td>No</td>\n",
       "      <td>34</td>\n",
       "      <td>Yes</td>\n",
       "      <td>No</td>\n",
       "      <td>DSL</td>\n",
       "      <td>Yes</td>\n",
       "      <td>...</td>\n",
       "      <td>Yes</td>\n",
       "      <td>No</td>\n",
       "      <td>No</td>\n",
       "      <td>No</td>\n",
       "      <td>One year</td>\n",
       "      <td>No</td>\n",
       "      <td>Mailed check</td>\n",
       "      <td>56.95</td>\n",
       "      <td>1889.5</td>\n",
       "      <td>No</td>\n",
       "    </tr>\n",
       "    <tr>\n",
       "      <th>2</th>\n",
       "      <td>3668-QPYBK</td>\n",
       "      <td>Male</td>\n",
       "      <td>0</td>\n",
       "      <td>No</td>\n",
       "      <td>No</td>\n",
       "      <td>2</td>\n",
       "      <td>Yes</td>\n",
       "      <td>No</td>\n",
       "      <td>DSL</td>\n",
       "      <td>Yes</td>\n",
       "      <td>...</td>\n",
       "      <td>No</td>\n",
       "      <td>No</td>\n",
       "      <td>No</td>\n",
       "      <td>No</td>\n",
       "      <td>Month-to-month</td>\n",
       "      <td>Yes</td>\n",
       "      <td>Mailed check</td>\n",
       "      <td>53.85</td>\n",
       "      <td>108.15</td>\n",
       "      <td>Yes</td>\n",
       "    </tr>\n",
       "    <tr>\n",
       "      <th>3</th>\n",
       "      <td>7795-CFOCW</td>\n",
       "      <td>Male</td>\n",
       "      <td>0</td>\n",
       "      <td>No</td>\n",
       "      <td>No</td>\n",
       "      <td>45</td>\n",
       "      <td>No</td>\n",
       "      <td>No phone service</td>\n",
       "      <td>DSL</td>\n",
       "      <td>Yes</td>\n",
       "      <td>...</td>\n",
       "      <td>Yes</td>\n",
       "      <td>Yes</td>\n",
       "      <td>No</td>\n",
       "      <td>No</td>\n",
       "      <td>One year</td>\n",
       "      <td>No</td>\n",
       "      <td>Bank transfer (automatic)</td>\n",
       "      <td>42.30</td>\n",
       "      <td>1840.75</td>\n",
       "      <td>No</td>\n",
       "    </tr>\n",
       "    <tr>\n",
       "      <th>4</th>\n",
       "      <td>9237-HQITU</td>\n",
       "      <td>Female</td>\n",
       "      <td>0</td>\n",
       "      <td>No</td>\n",
       "      <td>No</td>\n",
       "      <td>2</td>\n",
       "      <td>Yes</td>\n",
       "      <td>No</td>\n",
       "      <td>Fiber optic</td>\n",
       "      <td>No</td>\n",
       "      <td>...</td>\n",
       "      <td>No</td>\n",
       "      <td>No</td>\n",
       "      <td>No</td>\n",
       "      <td>No</td>\n",
       "      <td>Month-to-month</td>\n",
       "      <td>Yes</td>\n",
       "      <td>Electronic check</td>\n",
       "      <td>70.70</td>\n",
       "      <td>151.65</td>\n",
       "      <td>Yes</td>\n",
       "    </tr>\n",
       "  </tbody>\n",
       "</table>\n",
       "<p>5 rows × 21 columns</p>\n",
       "</div>"
      ],
      "text/plain": [
       "   customerID  gender  SeniorCitizen Partner Dependents  tenure PhoneService  \\\n",
       "0  7590-VHVEG  Female              0     Yes         No       1           No   \n",
       "1  5575-GNVDE    Male              0      No         No      34          Yes   \n",
       "2  3668-QPYBK    Male              0      No         No       2          Yes   \n",
       "3  7795-CFOCW    Male              0      No         No      45           No   \n",
       "4  9237-HQITU  Female              0      No         No       2          Yes   \n",
       "\n",
       "      MultipleLines InternetService OnlineSecurity  ...  DeviceProtection  \\\n",
       "0  No phone service             DSL             No  ...                No   \n",
       "1                No             DSL            Yes  ...               Yes   \n",
       "2                No             DSL            Yes  ...                No   \n",
       "3  No phone service             DSL            Yes  ...               Yes   \n",
       "4                No     Fiber optic             No  ...                No   \n",
       "\n",
       "  TechSupport StreamingTV StreamingMovies        Contract PaperlessBilling  \\\n",
       "0          No          No              No  Month-to-month              Yes   \n",
       "1          No          No              No        One year               No   \n",
       "2          No          No              No  Month-to-month              Yes   \n",
       "3         Yes          No              No        One year               No   \n",
       "4          No          No              No  Month-to-month              Yes   \n",
       "\n",
       "               PaymentMethod MonthlyCharges  TotalCharges Churn  \n",
       "0           Electronic check          29.85         29.85    No  \n",
       "1               Mailed check          56.95        1889.5    No  \n",
       "2               Mailed check          53.85        108.15   Yes  \n",
       "3  Bank transfer (automatic)          42.30       1840.75    No  \n",
       "4           Electronic check          70.70        151.65   Yes  \n",
       "\n",
       "[5 rows x 21 columns]"
      ]
     },
     "execution_count": 4,
     "metadata": {},
     "output_type": "execute_result"
    }
   ],
   "source": [
    "df.head()"
   ]
  },
  {
   "cell_type": "code",
   "execution_count": 5,
   "metadata": {
    "_uuid": "ef5ab12f3f91d915bff8a2a04b196f246f912f0d",
    "colab": {
     "base_uri": "https://localhost:8080/",
     "height": 470
    },
    "colab_type": "code",
    "id": "J4oBpZ3jPxay",
    "outputId": "3e3a2ebe-0f5a-41e6-8df2-c905288753c7"
   },
   "outputs": [
    {
     "name": "stdout",
     "output_type": "stream",
     "text": [
      "<class 'pandas.core.frame.DataFrame'>\n",
      "RangeIndex: 7043 entries, 0 to 7042\n",
      "Data columns (total 21 columns):\n",
      "customerID          7043 non-null object\n",
      "gender              7043 non-null object\n",
      "SeniorCitizen       7043 non-null int64\n",
      "Partner             7043 non-null object\n",
      "Dependents          7043 non-null object\n",
      "tenure              7043 non-null int64\n",
      "PhoneService        7043 non-null object\n",
      "MultipleLines       7043 non-null object\n",
      "InternetService     7043 non-null object\n",
      "OnlineSecurity      7043 non-null object\n",
      "OnlineBackup        7043 non-null object\n",
      "DeviceProtection    7043 non-null object\n",
      "TechSupport         7043 non-null object\n",
      "StreamingTV         7043 non-null object\n",
      "StreamingMovies     7043 non-null object\n",
      "Contract            7043 non-null object\n",
      "PaperlessBilling    7043 non-null object\n",
      "PaymentMethod       7043 non-null object\n",
      "MonthlyCharges      7043 non-null float64\n",
      "TotalCharges        7043 non-null object\n",
      "Churn               7043 non-null object\n",
      "dtypes: float64(1), int64(2), object(18)\n",
      "memory usage: 1.1+ MB\n"
     ]
    }
   ],
   "source": [
    "df.info()"
   ]
  },
  {
   "cell_type": "markdown",
   "metadata": {
    "colab_type": "text",
    "id": "DVghRnUUiqCK"
   },
   "source": [
    "### 데이터 전처리"
   ]
  },
  {
   "cell_type": "code",
   "execution_count": 6,
   "metadata": {
    "_uuid": "3b417b48c2deb7b578d6bbef5d27d012f7180827",
    "colab": {
     "base_uri": "https://localhost:8080/",
     "height": 226
    },
    "colab_type": "code",
    "id": "QcSGjz-IPxa-",
    "outputId": "e7262117-8767-4513-ff58-ff792c7316a2"
   },
   "outputs": [
    {
     "data": {
      "text/plain": [
       "488      \n",
       "753      \n",
       "936      \n",
       "1082     \n",
       "1340     \n",
       "3331     \n",
       "3826     \n",
       "4380     \n",
       "5218     \n",
       "6670     \n",
       "6754     \n",
       "Name: TotalCharges, dtype: object"
      ]
     },
     "execution_count": 6,
     "metadata": {},
     "output_type": "execute_result"
    }
   ],
   "source": [
    "# numeric인데 object(categorical)로 되어있는 것 numeric으로 바꿔줌\n",
    "df['TotalCharges_new']= pd.to_numeric(df.TotalCharges, errors='coerce_numeric')\n",
    "\n",
    "# NA가 생겼는지 확인\n",
    "df.loc[pd.isna(df.TotalCharges_new),'TotalCharges']"
   ]
  },
  {
   "cell_type": "code",
   "execution_count": 7,
   "metadata": {
    "_uuid": "c5e8bdbafe345129e6c019baabed0e7fff910c67",
    "colab": {},
    "colab_type": "code",
    "id": "3mxrAQT3PxbA"
   },
   "outputs": [],
   "source": [
    "# 위의 11개 NA값을 원래 값으로 채워줌\n",
    "TotalCharges_Missing=[488,753,936,1082,1340,3331,3826,4380,5218,6670,6754]\n",
    "df.loc[pd.isnull(df.TotalCharges_new),'TotalCharges_new']=TotalCharges_Missing"
   ]
  },
  {
   "cell_type": "code",
   "execution_count": 8,
   "metadata": {
    "_uuid": "ea492dfefd685b2faa9141069d995f194dc49e53",
    "colab": {
     "base_uri": "https://localhost:8080/",
     "height": 453
    },
    "colab_type": "code",
    "id": "uVgtgIKOPxbD",
    "outputId": "e389072a-6871-4369-ca4d-052a5c54be2b"
   },
   "outputs": [
    {
     "name": "stdout",
     "output_type": "stream",
     "text": [
      "<class 'pandas.core.frame.DataFrame'>\n",
      "RangeIndex: 7043 entries, 0 to 7042\n",
      "Data columns (total 20 columns):\n",
      "gender              7043 non-null object\n",
      "SeniorCitizen       7043 non-null int64\n",
      "Partner             7043 non-null object\n",
      "Dependents          7043 non-null object\n",
      "tenure              7043 non-null int64\n",
      "PhoneService        7043 non-null object\n",
      "MultipleLines       7043 non-null object\n",
      "InternetService     7043 non-null object\n",
      "OnlineSecurity      7043 non-null object\n",
      "OnlineBackup        7043 non-null object\n",
      "DeviceProtection    7043 non-null object\n",
      "TechSupport         7043 non-null object\n",
      "StreamingTV         7043 non-null object\n",
      "StreamingMovies     7043 non-null object\n",
      "Contract            7043 non-null object\n",
      "PaperlessBilling    7043 non-null object\n",
      "PaymentMethod       7043 non-null object\n",
      "MonthlyCharges      7043 non-null float64\n",
      "TotalCharges        7043 non-null float64\n",
      "Churn               7043 non-null object\n",
      "dtypes: float64(2), int64(2), object(16)\n",
      "memory usage: 1.1+ MB\n"
     ]
    }
   ],
   "source": [
    "# 변수 바꿔주고 customerID 빼고 전체 다시 확인\n",
    "df.TotalCharges=df.TotalCharges_new\n",
    "df.drop(['customerID','TotalCharges_new'],axis=1,inplace=True)\n",
    "df.info()"
   ]
  },
  {
   "cell_type": "code",
   "execution_count": 9,
   "metadata": {
    "_uuid": "d5b98a7befbde8ac5134be639b55f4281776ab8f",
    "colab": {
     "base_uri": "https://localhost:8080/",
     "height": 313
    },
    "colab_type": "code",
    "id": "DpL-j2ahPxbE",
    "outputId": "fd5ccef9-2cad-4d32-f841-451d96e24308"
   },
   "outputs": [
    {
     "name": "stdout",
     "output_type": "stream",
     "text": [
      "gender : ['Female' 'Male']\n",
      "Partner : ['Yes' 'No']\n",
      "Dependents : ['No' 'Yes']\n",
      "PhoneService : ['No' 'Yes']\n",
      "MultipleLines : ['No phone service' 'No' 'Yes']\n",
      "InternetService : ['DSL' 'Fiber optic' 'No']\n",
      "OnlineSecurity : ['No' 'Yes' 'No internet service']\n",
      "OnlineBackup : ['Yes' 'No' 'No internet service']\n",
      "DeviceProtection : ['No' 'Yes' 'No internet service']\n",
      "TechSupport : ['No' 'Yes' 'No internet service']\n",
      "StreamingTV : ['No' 'Yes' 'No internet service']\n",
      "StreamingMovies : ['No' 'Yes' 'No internet service']\n",
      "Contract : ['Month-to-month' 'One year' 'Two year']\n",
      "PaperlessBilling : ['Yes' 'No']\n",
      "PaymentMethod : ['Electronic check' 'Mailed check' 'Bank transfer (automatic)'\n",
      " 'Credit card (automatic)']\n",
      "Churn : ['No' 'Yes']\n"
     ]
    }
   ],
   "source": [
    "# cateogirlcal 변수들의 level 확인\n",
    "df.dtypes=='object'\n",
    "categorical_var=[i for i in df.columns if df[i].dtypes=='object']\n",
    "for z in categorical_var:\n",
    "    print(df[z].name,':',df[z].unique())"
   ]
  },
  {
   "cell_type": "code",
   "execution_count": 10,
   "metadata": {
    "_uuid": "2f8f818d8383015cae7f3e33dd8e8a5c41da8f5d",
    "colab": {},
    "colab_type": "code",
    "id": "jt5qhQV2PxbI"
   },
   "outputs": [],
   "source": [
    "# 위에서 \"No internet service\"같은 것은 \"No\"로 바꿔줌\n",
    "Dual_features= ['OnlineSecurity','OnlineBackup','DeviceProtection','TechSupport','StreamingTV','StreamingMovies']\n",
    "for i in Dual_features:\n",
    "    df[i]=df[i].apply(lambda x: 'No' if x=='No internet service' else x)\n",
    "df.MultipleLines=df.MultipleLines.apply(lambda x: 'No' if x=='No phone service' else x)"
   ]
  },
  {
   "cell_type": "code",
   "execution_count": 11,
   "metadata": {
    "_uuid": "2a5335de764ec91e633424bb77454dad1b619c81",
    "colab": {
     "base_uri": "https://localhost:8080/",
     "height": 313
    },
    "colab_type": "code",
    "id": "lLC5mzlHPxbN",
    "outputId": "d362371b-78e2-400f-920f-661a1a883964"
   },
   "outputs": [
    {
     "name": "stdout",
     "output_type": "stream",
     "text": [
      "gender : ['Female' 'Male']\n",
      "Partner : ['Yes' 'No']\n",
      "Dependents : ['No' 'Yes']\n",
      "PhoneService : ['No' 'Yes']\n",
      "MultipleLines : ['No' 'Yes']\n",
      "InternetService : ['DSL' 'Fiber optic' 'No']\n",
      "OnlineSecurity : ['No' 'Yes']\n",
      "OnlineBackup : ['Yes' 'No']\n",
      "DeviceProtection : ['No' 'Yes']\n",
      "TechSupport : ['No' 'Yes']\n",
      "StreamingTV : ['No' 'Yes']\n",
      "StreamingMovies : ['No' 'Yes']\n",
      "Contract : ['Month-to-month' 'One year' 'Two year']\n",
      "PaperlessBilling : ['Yes' 'No']\n",
      "PaymentMethod : ['Electronic check' 'Mailed check' 'Bank transfer (automatic)'\n",
      " 'Credit card (automatic)']\n",
      "Churn : ['No' 'Yes']\n"
     ]
    }
   ],
   "source": [
    "# 확인\n",
    "for z in [i for i in df.columns if df[i].dtypes=='object']:\n",
    "    print(df[z].name,':',df[z].unique())"
   ]
  },
  {
   "cell_type": "code",
   "execution_count": 12,
   "metadata": {
    "_uuid": "ef262c272bd7458520cdcd3f1118e4e640aff137",
    "colab": {},
    "colab_type": "code",
    "id": "emKiqZu5j7Jv"
   },
   "outputs": [],
   "source": [
    "# 2-class cateogorical 변수 -> sklearn 패키지의 함수로 dummy 변수(0,1)로 바꿔줌\n",
    "label_encoder = LabelEncoder()\n",
    "for x in [i for i in df.columns if len(df[i].unique())==2]:\n",
    "    df[x]= label_encoder.fit_transform(df[x])\n",
    "    \n",
    "# 3개이상 class의 cateogorical 변수 -> pandas 이용해서 dummy 변수로 바꿔줌 \n",
    "df = pd.get_dummies(df, columns= [i for i in df.columns if df[i].dtypes=='object'],drop_first=True)"
   ]
  },
  {
   "cell_type": "code",
   "execution_count": 13,
   "metadata": {
    "_uuid": "f46b6f28d733e41c907fc08a6c7657343fab3a30",
    "colab": {
     "base_uri": "https://localhost:8080/",
     "height": 383
    },
    "colab_type": "code",
    "id": "WzeHWiprj7I_",
    "outputId": "b429905b-752c-4750-dac2-779fff0c1e1f"
   },
   "outputs": [
    {
     "data": {
      "text/plain": [
       "[['gender', array([0, 1], dtype=int64)],\n",
       " ['SeniorCitizen', array([0, 1], dtype=int64)],\n",
       " ['Partner', array([1, 0], dtype=int64)],\n",
       " ['Dependents', array([0, 1], dtype=int64)],\n",
       " ['PhoneService', array([0, 1], dtype=int64)],\n",
       " ['MultipleLines', array([0, 1], dtype=int64)],\n",
       " ['OnlineSecurity', array([0, 1], dtype=int64)],\n",
       " ['OnlineBackup', array([1, 0], dtype=int64)],\n",
       " ['DeviceProtection', array([0, 1], dtype=int64)],\n",
       " ['TechSupport', array([0, 1], dtype=int64)],\n",
       " ['StreamingTV', array([0, 1], dtype=int64)],\n",
       " ['StreamingMovies', array([0, 1], dtype=int64)],\n",
       " ['PaperlessBilling', array([1, 0], dtype=int64)],\n",
       " ['Churn', array([0, 1], dtype=int64)],\n",
       " ['InternetService_Fiber optic', array([0, 1], dtype=uint64)],\n",
       " ['InternetService_No', array([0, 1], dtype=uint64)],\n",
       " ['Contract_One year', array([0, 1], dtype=uint64)],\n",
       " ['Contract_Two year', array([0, 1], dtype=uint64)],\n",
       " ['PaymentMethod_Credit card (automatic)', array([0, 1], dtype=uint64)],\n",
       " ['PaymentMethod_Electronic check', array([1, 0], dtype=uint64)],\n",
       " ['PaymentMethod_Mailed check', array([0, 1], dtype=uint64)]]"
      ]
     },
     "execution_count": 13,
     "metadata": {},
     "output_type": "execute_result"
    }
   ],
   "source": [
    "# 확인\n",
    "[[x, df[x].unique()] for x in [i for i in df.columns if len(df[i].unique())<10]]"
   ]
  },
  {
   "cell_type": "code",
   "execution_count": 14,
   "metadata": {
    "_uuid": "2875e8a30fb9a5c7a6e99fdabe2f4d976c72390e",
    "colab": {},
    "colab_type": "code",
    "id": "ORwZpsbJPxbl"
   },
   "outputs": [],
   "source": [
    "X = df[['TotalCharges', 'InternetService_Fiber optic', 'Contract_One year', 'Contract_Two year', 'PaperlessBilling', 'TechSupport', 'OnlineSecurity', 'PhoneService', 'InternetService_No', 'tenure']]\n",
    " ### SVM으로 classification했을 때 변수 중요도가 높은 10개의 변수만 선택\n",
    "y = df['Churn']                # target 변수 y\n",
    "\n",
    "# train, text 나누기\n",
    "X_train, X_test, y_train, y_test = train_test_split(X, y, test_size = 0.2, random_state = 0)"
   ]
  },
  {
   "cell_type": "code",
   "execution_count": 15,
   "metadata": {
    "_uuid": "14fa2ab0ee8ead01ec0ea0cedf71969fcc2a6237",
    "colab": {
     "base_uri": "https://localhost:8080/",
     "height": 373
    },
    "colab_type": "code",
    "id": "iIRTz2e_xGTR",
    "outputId": "ca50b977-3a9f-49f2-d712-ab3227aae352"
   },
   "outputs": [
    {
     "name": "stderr",
     "output_type": "stream",
     "text": [
      "C:\\Users\\SAMSUNG\\Anaconda3\\lib\\site-packages\\sklearn\\preprocessing\\data.py:617: DataConversionWarning: Data with input dtype uint8, int32, int64, float64 were all converted to float64 by StandardScaler.\n",
      "  return self.partial_fit(X, y)\n",
      "C:\\Users\\SAMSUNG\\Anaconda3\\lib\\site-packages\\sklearn\\base.py:462: DataConversionWarning: Data with input dtype uint8, int32, int64, float64 were all converted to float64 by StandardScaler.\n",
      "  return self.fit(X, **fit_params).transform(X)\n",
      "C:\\Users\\SAMSUNG\\Anaconda3\\lib\\site-packages\\sklearn\\preprocessing\\data.py:617: DataConversionWarning: Data with input dtype uint8, int32, int64, float64 were all converted to float64 by StandardScaler.\n",
      "  return self.partial_fit(X, y)\n",
      "C:\\Users\\SAMSUNG\\Anaconda3\\lib\\site-packages\\sklearn\\base.py:462: DataConversionWarning: Data with input dtype uint8, int32, int64, float64 were all converted to float64 by StandardScaler.\n",
      "  return self.fit(X, **fit_params).transform(X)\n"
     ]
    },
    {
     "data": {
      "text/html": [
       "<div>\n",
       "<style scoped>\n",
       "    .dataframe tbody tr th:only-of-type {\n",
       "        vertical-align: middle;\n",
       "    }\n",
       "\n",
       "    .dataframe tbody tr th {\n",
       "        vertical-align: top;\n",
       "    }\n",
       "\n",
       "    .dataframe thead th {\n",
       "        text-align: right;\n",
       "    }\n",
       "</style>\n",
       "<table border=\"1\" class=\"dataframe\">\n",
       "  <thead>\n",
       "    <tr style=\"text-align: right;\">\n",
       "      <th></th>\n",
       "      <th>TotalCharges</th>\n",
       "      <th>InternetService_Fiber optic</th>\n",
       "      <th>Contract_One year</th>\n",
       "      <th>Contract_Two year</th>\n",
       "      <th>PaperlessBilling</th>\n",
       "      <th>TechSupport</th>\n",
       "      <th>OnlineSecurity</th>\n",
       "      <th>PhoneService</th>\n",
       "      <th>InternetService_No</th>\n",
       "      <th>tenure</th>\n",
       "    </tr>\n",
       "  </thead>\n",
       "  <tbody>\n",
       "    <tr>\n",
       "      <th>0</th>\n",
       "      <td>1.702610</td>\n",
       "      <td>-0.888655</td>\n",
       "      <td>-0.516093</td>\n",
       "      <td>1.793618</td>\n",
       "      <td>-1.214659</td>\n",
       "      <td>1.580942</td>\n",
       "      <td>1.574778</td>\n",
       "      <td>0.326254</td>\n",
       "      <td>-0.526281</td>\n",
       "      <td>1.612532</td>\n",
       "    </tr>\n",
       "    <tr>\n",
       "      <th>1</th>\n",
       "      <td>-0.711543</td>\n",
       "      <td>-0.888655</td>\n",
       "      <td>-0.516093</td>\n",
       "      <td>-0.557532</td>\n",
       "      <td>0.823277</td>\n",
       "      <td>-0.632534</td>\n",
       "      <td>-0.635010</td>\n",
       "      <td>-3.065099</td>\n",
       "      <td>-0.526281</td>\n",
       "      <td>-0.747907</td>\n",
       "    </tr>\n",
       "    <tr>\n",
       "      <th>2</th>\n",
       "      <td>-0.210523</td>\n",
       "      <td>-0.888655</td>\n",
       "      <td>-0.516093</td>\n",
       "      <td>1.793618</td>\n",
       "      <td>-1.214659</td>\n",
       "      <td>-0.632534</td>\n",
       "      <td>-0.635010</td>\n",
       "      <td>0.326254</td>\n",
       "      <td>1.900125</td>\n",
       "      <td>1.571835</td>\n",
       "    </tr>\n",
       "    <tr>\n",
       "      <th>3</th>\n",
       "      <td>0.051249</td>\n",
       "      <td>-0.888655</td>\n",
       "      <td>1.937635</td>\n",
       "      <td>-0.557532</td>\n",
       "      <td>0.823277</td>\n",
       "      <td>1.580942</td>\n",
       "      <td>-0.635010</td>\n",
       "      <td>0.326254</td>\n",
       "      <td>-0.526281</td>\n",
       "      <td>0.025340</td>\n",
       "    </tr>\n",
       "    <tr>\n",
       "      <th>4</th>\n",
       "      <td>0.988540</td>\n",
       "      <td>1.125296</td>\n",
       "      <td>-0.516093</td>\n",
       "      <td>-0.557532</td>\n",
       "      <td>0.823277</td>\n",
       "      <td>-0.632534</td>\n",
       "      <td>1.574778</td>\n",
       "      <td>0.326254</td>\n",
       "      <td>-0.526281</td>\n",
       "      <td>0.595101</td>\n",
       "    </tr>\n",
       "  </tbody>\n",
       "</table>\n",
       "</div>"
      ],
      "text/plain": [
       "   TotalCharges  InternetService_Fiber optic  Contract_One year  \\\n",
       "0      1.702610                    -0.888655          -0.516093   \n",
       "1     -0.711543                    -0.888655          -0.516093   \n",
       "2     -0.210523                    -0.888655          -0.516093   \n",
       "3      0.051249                    -0.888655           1.937635   \n",
       "4      0.988540                     1.125296          -0.516093   \n",
       "\n",
       "   Contract_Two year  PaperlessBilling  TechSupport  OnlineSecurity  \\\n",
       "0           1.793618         -1.214659     1.580942        1.574778   \n",
       "1          -0.557532          0.823277    -0.632534       -0.635010   \n",
       "2           1.793618         -1.214659    -0.632534       -0.635010   \n",
       "3          -0.557532          0.823277     1.580942       -0.635010   \n",
       "4          -0.557532          0.823277    -0.632534        1.574778   \n",
       "\n",
       "   PhoneService  InternetService_No    tenure  \n",
       "0      0.326254           -0.526281  1.612532  \n",
       "1     -3.065099           -0.526281 -0.747907  \n",
       "2      0.326254            1.900125  1.571835  \n",
       "3      0.326254           -0.526281  0.025340  \n",
       "4      0.326254           -0.526281  0.595101  "
      ]
     },
     "execution_count": 15,
     "metadata": {},
     "output_type": "execute_result"
    }
   ],
   "source": [
    "# Scale 조정!!!\n",
    "sc = StandardScaler()\n",
    "X_train = sc.fit_transform(X_train)                 # fit_transform: fit(μ and σ 계산) + transform\n",
    "X_train = pd.DataFrame(X_train, columns=X.columns)\n",
    "X_test = sc.fit_transform(X_test)                   # X_train에서 fit한 걸로 transform\n",
    "\n",
    "X_train.head()"
   ]
  },
  {
   "cell_type": "markdown",
   "metadata": {},
   "source": [
    "# SVM"
   ]
  },
  {
   "cell_type": "code",
   "execution_count": 21,
   "metadata": {},
   "outputs": [],
   "source": [
    "from sklearn.svm import SVC"
   ]
  },
  {
   "cell_type": "code",
   "execution_count": 22,
   "metadata": {},
   "outputs": [
    {
     "data": {
      "text/plain": [
       "SVC(C=1.0, cache_size=200, class_weight=None, coef0=0.0,\n",
       "  decision_function_shape='ovr', degree=3, gamma='auto_deprecated',\n",
       "  kernel='rbf', max_iter=-1, probability=True, random_state=None,\n",
       "  shrinking=True, tol=0.001, verbose=False)"
      ]
     },
     "execution_count": 22,
     "metadata": {},
     "output_type": "execute_result"
    }
   ],
   "source": [
    "svm_classifier= SVC(probability=True)\n",
    "svm_classifier.fit(X_train,y_train)"
   ]
  },
  {
   "cell_type": "code",
   "execution_count": 23,
   "metadata": {},
   "outputs": [],
   "source": [
    "svm_prob = svm_classifier.predict_proba(X_test)[:,1]"
   ]
  },
  {
   "cell_type": "code",
   "execution_count": 24,
   "metadata": {},
   "outputs": [],
   "source": [
    "y_pred_svm = np.zeros_like(y_test)"
   ]
  },
  {
   "cell_type": "code",
   "execution_count": 25,
   "metadata": {},
   "outputs": [],
   "source": [
    "from sklearn.metrics import recall_score,accuracy_score"
   ]
  },
  {
   "cell_type": "code",
   "execution_count": 26,
   "metadata": {},
   "outputs": [],
   "source": [
    "p_range = np.arange(0.1,1,0.1)\n",
    "svm_recall = np.zeros_like(p_range)\n",
    "svm_acc = np.zeros_like(p_range)"
   ]
  },
  {
   "cell_type": "code",
   "execution_count": 27,
   "metadata": {},
   "outputs": [],
   "source": [
    "for i in range(len(p_range)) :\n",
    "    y_pred_svm = np.zeros_like(y_test)\n",
    "    y_pred_svm[np.where(svm_prob>=p_range[i])]=1\n",
    "    y_pred_svm[np.where(svm_prob<p_range[i])]=0\n",
    "    \n",
    "    svm_recall[i] = recall_score(y_test, y_pred_svm, average=None)[1]\n",
    "    svm_acc[i] = accuracy_score(y_test,y_pred_svm)\n"
   ]
  },
  {
   "cell_type": "code",
   "execution_count": 28,
   "metadata": {},
   "outputs": [
    {
     "data": {
      "text/plain": [
       "array([0.99456522, 0.61413043, 0.54347826, 0.51630435, 0.47554348,\n",
       "       0.39130435, 0.2826087 , 0.        , 0.        ])"
      ]
     },
     "execution_count": 28,
     "metadata": {},
     "output_type": "execute_result"
    }
   ],
   "source": [
    "svm_recall"
   ]
  },
  {
   "cell_type": "code",
   "execution_count": 29,
   "metadata": {},
   "outputs": [
    {
     "data": {
      "text/plain": [
       "array([0.26046842, 0.78140525, 0.78921221, 0.79701916, 0.79843861,\n",
       "       0.78850248, 0.77856636, 0.73882186, 0.73882186])"
      ]
     },
     "execution_count": 29,
     "metadata": {},
     "output_type": "execute_result"
    }
   ],
   "source": [
    "svm_acc"
   ]
  },
  {
   "cell_type": "code",
   "execution_count": 30,
   "metadata": {},
   "outputs": [],
   "source": [
    "from matplotlib import pyplot as plt"
   ]
  },
  {
   "cell_type": "code",
   "execution_count": 31,
   "metadata": {},
   "outputs": [
    {
     "data": {
      "text/plain": [
       "<matplotlib.legend.Legend at 0x27a10736860>"
      ]
     },
     "execution_count": 31,
     "metadata": {},
     "output_type": "execute_result"
    },
    {
     "data": {
      "image/png": "[encoded data removed]",
      "text/plain": [
       "<Figure size 432x288 with 1 Axes>"
      ]
     },
     "metadata": {
      "needs_background": "light"
     },
     "output_type": "display_data"
    }
   ],
   "source": [
    "plt.plot(p_range,svm_recall,label = \"recall\")\n",
    "plt.plot(p_range,svm_acc, label = \"accuracy\")\n",
    "plt.legend()"
   ]
  },
  {
   "cell_type": "code",
   "execution_count": 71,
   "metadata": {
    "scrolled": true
   },
   "outputs": [
    {
     "name": "stdout",
     "output_type": "stream",
     "text": [
      "              precision    recall  f1-score   support\n",
      "\n",
      "           0       0.84      0.88      0.86      1041\n",
      "           1       0.61      0.54      0.57       368\n",
      "\n",
      "   micro avg       0.79      0.79      0.79      1409\n",
      "   macro avg       0.73      0.71      0.72      1409\n",
      "weighted avg       0.78      0.79      0.79      1409\n",
      "\n"
     ]
    }
   ],
   "source": [
    "#cutoff 0.2\n",
    "y_pred_svm[np.where(svm_prob>=0.3)]=1\n",
    "y_pred_svm[np.where(svm_prob<0.3)]=0\n",
    "#Classification Report\n",
    "print(classification_report(y_test,y_pred_svm))"
   ]
  },
  {
   "cell_type": "code",
   "execution_count": 72,
   "metadata": {},
   "outputs": [
    {
     "data": {
      "text/plain": [
       "Text(91.68, 0.5, 'predicted label')"
      ]
     },
     "execution_count": 72,
     "metadata": {},
     "output_type": "execute_result"
    },
    {
     "data": {
      "image/png": "[encoded data removed]",
      "text/plain": [
       "<Figure size 432x288 with 1 Axes>"
      ]
     },
     "metadata": {
      "needs_background": "light"
     },
     "output_type": "display_data"
    }
   ],
   "source": [
    "#Confusion Matrix\n",
    "mat_svm = confusion_matrix(y_test, y_pred_svm)\n",
    "sns.heatmap(mat_svm.T, square=True, annot=True, fmt='d', cbar=False,\n",
    "          xticklabels=['No','Yes'],\n",
    "          yticklabels=['No','Yes'] )\n",
    "plt.xlabel('true label')\n",
    "plt.ylabel('predicted label')"
   ]
  },
  {
   "cell_type": "markdown",
   "metadata": {},
   "source": [
    "# logistic regression"
   ]
  },
  {
   "cell_type": "code",
   "execution_count": 34,
   "metadata": {},
   "outputs": [],
   "source": [
    "from sklearn.linear_model import LogisticRegression"
   ]
  },
  {
   "cell_type": "code",
   "execution_count": 35,
   "metadata": {},
   "outputs": [
    {
     "name": "stderr",
     "output_type": "stream",
     "text": [
      "C:\\Users\\SAMSUNG\\Anaconda3\\lib\\site-packages\\sklearn\\linear_model\\logistic.py:432: FutureWarning: Default solver will be changed to 'lbfgs' in 0.22. Specify a solver to silence this warning.\n",
      "  FutureWarning)\n"
     ]
    },
    {
     "data": {
      "text/plain": [
       "LogisticRegression(C=1.0, class_weight=None, dual=False, fit_intercept=True,\n",
       "          intercept_scaling=1, max_iter=100, multi_class='warn',\n",
       "          n_jobs=None, penalty='l2', random_state=None, solver='warn',\n",
       "          tol=0.0001, verbose=0, warm_start=False)"
      ]
     },
     "execution_count": 35,
     "metadata": {},
     "output_type": "execute_result"
    }
   ],
   "source": [
    "logreg = LogisticRegression()\n",
    "logreg.fit(X_train, y_train)"
   ]
  },
  {
   "cell_type": "code",
   "execution_count": 36,
   "metadata": {},
   "outputs": [],
   "source": [
    "logis_prob = logreg.predict_proba(X_test)[:,1]"
   ]
  },
  {
   "cell_type": "code",
   "execution_count": 37,
   "metadata": {},
   "outputs": [],
   "source": [
    "y_pred_logis = np.zeros_like(y_test)"
   ]
  },
  {
   "cell_type": "code",
   "execution_count": 38,
   "metadata": {},
   "outputs": [],
   "source": [
    "logis_recall = np.zeros_like(p_range)\n",
    "logis_acc = np.zeros_like(p_range)"
   ]
  },
  {
   "cell_type": "code",
   "execution_count": 39,
   "metadata": {},
   "outputs": [],
   "source": [
    "for i in range(len(p_range)) :\n",
    "    y_pred_logis = np.zeros_like(y_test)\n",
    "    y_pred_logis[np.where(logis_prob>=p_range[i])]=1\n",
    "    y_pred_logis[np.where(logis_prob<p_range[i])]=0\n",
    "    \n",
    "    logis_recall[i] = recall_score(y_test, y_pred_logis, average=None)[1]\n",
    "    logis_acc[i] = accuracy_score(y_test,y_pred_logis)\n"
   ]
  },
  {
   "cell_type": "code",
   "execution_count": 40,
   "metadata": {},
   "outputs": [
    {
     "data": {
      "text/plain": [
       "array([0.93478261, 0.86413043, 0.76630435, 0.68206522, 0.56521739,\n",
       "       0.38586957, 0.17663043, 0.        , 0.        ])"
      ]
     },
     "execution_count": 40,
     "metadata": {},
     "output_type": "execute_result"
    }
   ],
   "source": [
    "logis_recall"
   ]
  },
  {
   "cell_type": "code",
   "execution_count": 41,
   "metadata": {},
   "outputs": [
    {
     "data": {
      "text/plain": [
       "array([0.59545777, 0.68701207, 0.74095103, 0.77288857, 0.80198722,\n",
       "       0.7920511 , 0.76933996, 0.73882186, 0.73882186])"
      ]
     },
     "execution_count": 41,
     "metadata": {},
     "output_type": "execute_result"
    }
   ],
   "source": [
    "logis_acc"
   ]
  },
  {
   "cell_type": "code",
   "execution_count": 42,
   "metadata": {},
   "outputs": [],
   "source": [
    "from matplotlib import pyplot as plt"
   ]
  },
  {
   "cell_type": "code",
   "execution_count": 43,
   "metadata": {},
   "outputs": [
    {
     "data": {
      "text/plain": [
       "<matplotlib.legend.Legend at 0x27a10883b70>"
      ]
     },
     "execution_count": 43,
     "metadata": {},
     "output_type": "execute_result"
    },
    {
     "data": {
      "image/png": "[encoded data removed]",
      "text/plain": [
       "<Figure size 432x288 with 1 Axes>"
      ]
     },
     "metadata": {
      "needs_background": "light"
     },
     "output_type": "display_data"
    }
   ],
   "source": [
    "plt.plot(p_range,logis_recall,label = \"recall\")\n",
    "plt.plot(p_range,logis_acc, label = \"accuracy\")\n",
    "plt.legend()"
   ]
  },
  {
   "cell_type": "code",
   "execution_count": 66,
   "metadata": {},
   "outputs": [
    {
     "name": "stdout",
     "output_type": "stream",
     "text": [
      "              precision    recall  f1-score   support\n",
      "\n",
      "           0       0.90      0.73      0.81      1041\n",
      "           1       0.50      0.77      0.61       368\n",
      "\n",
      "   micro avg       0.74      0.74      0.74      1409\n",
      "   macro avg       0.70      0.75      0.71      1409\n",
      "weighted avg       0.80      0.74      0.75      1409\n",
      "\n"
     ]
    }
   ],
   "source": [
    "#cutoff 0.2\n",
    "y_pred_logis[np.where(logis_prob>=0.3)]=1\n",
    "y_pred_logis[np.where(logis_prob<0.3)]=0\n",
    "#Classification Report\n",
    "print(classification_report(y_test,y_pred_logis))"
   ]
  },
  {
   "cell_type": "code",
   "execution_count": 67,
   "metadata": {},
   "outputs": [
    {
     "data": {
      "text/plain": [
       "Text(91.68, 0.5, 'predicted label')"
      ]
     },
     "execution_count": 67,
     "metadata": {},
     "output_type": "execute_result"
    },
    {
     "data": {
      "image/png": "[encoded data removed]",
      "text/plain": [
       "<Figure size 432x288 with 1 Axes>"
      ]
     },
     "metadata": {
      "needs_background": "light"
     },
     "output_type": "display_data"
    }
   ],
   "source": [
    "#Confusion Matrix\n",
    "mat_logis = confusion_matrix(y_test, y_pred_logis)\n",
    "sns.heatmap(mat_logis.T, square=True, annot=True, fmt='d', cbar=False,\n",
    "          xticklabels=['No','Yes'],\n",
    "          yticklabels=['No','Yes'] )\n",
    "plt.xlabel('true label')\n",
    "plt.ylabel('predicted label')"
   ]
  },
  {
   "cell_type": "markdown",
   "metadata": {
    "_uuid": "8c7fcf3ad4cf92d776210926def4e9fb2ae322e1",
    "colab_type": "text",
    "id": "mOueEf16PxcD"
   },
   "source": [
    "## DNN Modeling\n"
   ]
  },
  {
   "cell_type": "code",
   "execution_count": 47,
   "metadata": {
    "colab": {},
    "colab_type": "code",
    "id": "lsZv7EeZpg1q"
   },
   "outputs": [],
   "source": [
    "### Tuning\n",
    "# hidden layer 수: 3\n",
    "# node 수: (24, 12, 8)\n",
    "# optimizer: Adam\n",
    "# epoch 수: 20"
   ]
  },
  {
   "cell_type": "code",
   "execution_count": 48,
   "metadata": {
    "_uuid": "0bae158fff38b69c5e0002c2163a68fc91064c09",
    "colab": {
     "base_uri": "https://localhost:8080/",
     "height": 34
    },
    "colab_type": "code",
    "id": "taThsgt1PxcE",
    "outputId": "a9094c77-2180-441f-86c7-7051df7d01c2",
    "scrolled": true
   },
   "outputs": [
    {
     "data": {
      "text/plain": [
       "(5634, 10)"
      ]
     },
     "execution_count": 48,
     "metadata": {},
     "output_type": "execute_result"
    }
   ],
   "source": [
    "model = Sequential()   #Initiate DNN Classifier\n",
    "X_train.shape"
   ]
  },
  {
   "cell_type": "code",
   "execution_count": 49,
   "metadata": {
    "colab": {},
    "colab_type": "code",
    "id": "GZBtOkty4wMY"
   },
   "outputs": [],
   "source": [
    "n_hidden1, n_hidden2, n_hidden3 = 24, 12, 8"
   ]
  },
  {
   "cell_type": "code",
   "execution_count": 50,
   "metadata": {
    "_uuid": "cfa6a35929b5ec3bffe9e3ba0a9a13725f7b0148",
    "colab": {},
    "colab_type": "code",
    "id": "i8CJ_WQMPxcF"
   },
   "outputs": [],
   "source": [
    "# Hidden Layer1 (He 초기값)\n",
    "model.add(Dense(n_hidden1, activation='relu', kernel_initializer=init.he_normal(), input_dim=10))\n",
    "Dropout(0.5)\n",
    "# Hidden Layer2 (He 초기값)\n",
    "model.add(Dense(n_hidden2, activation='relu', kernel_initializer=init.he_normal()))\n",
    "Dropout(0.5)\n",
    "# Hidden Layer3 (He 초기값)\n",
    "model.add(Dense(n_hidden3, activation='relu', kernel_initializer=init.he_normal()))\n",
    "Dropout(0.5)\n",
    "# output Layer (Xaiver 초기값)\n",
    "model.add(Dense(1, activation='sigmoid', kernel_initializer=init.glorot_normal()))\n",
    "Dropout(0.5)\n",
    "# compiling\n",
    "model.compile(optimizer='adam',loss='binary_crossentropy', metrics=['accuracy'])"
   ]
  },
  {
   "cell_type": "code",
   "execution_count": 51,
   "metadata": {
    "_uuid": "a4cfbcab220a034f6f1c1fd130430b7643d82d53",
    "colab": {
     "base_uri": "https://localhost:8080/",
     "height": 278
    },
    "colab_type": "code",
    "id": "dTZQ2QjkPxcH",
    "outputId": "83aff553-9846-48f3-84de-cd933c4261d2"
   },
   "outputs": [
    {
     "name": "stdout",
     "output_type": "stream",
     "text": [
      "_________________________________________________________________\n",
      "Layer (type)                 Output Shape              Param #   \n",
      "=================================================================\n",
      "dense_1 (Dense)              (None, 24)                264       \n",
      "_________________________________________________________________\n",
      "dense_2 (Dense)              (None, 12)                300       \n",
      "_________________________________________________________________\n",
      "dense_3 (Dense)              (None, 8)                 104       \n",
      "_________________________________________________________________\n",
      "dense_4 (Dense)              (None, 1)                 9         \n",
      "=================================================================\n",
      "Total params: 677\n",
      "Trainable params: 677\n",
      "Non-trainable params: 0\n",
      "_________________________________________________________________\n"
     ]
    }
   ],
   "source": [
    "model.summary()"
   ]
  },
  {
   "cell_type": "code",
   "execution_count": 52,
   "metadata": {
    "_uuid": "2e2bcdeb0dfc6c965b0a299117549a9e15fe0e21",
    "colab": {
     "base_uri": "https://localhost:8080/",
     "height": 3542
    },
    "colab_type": "code",
    "id": "_3A2A4M-PxcI",
    "outputId": "c9017f79-3afd-4092-a378-738928cd9714"
   },
   "outputs": [
    {
     "name": "stdout",
     "output_type": "stream",
     "text": [
      "Train on 5634 samples, validate on 1409 samples\n",
      "Epoch 1/100\n",
      "5634/5634 [==============================] - 1s 153us/step - loss: 0.6316 - acc: 0.6624 - val_loss: 0.4661 - val_acc: 0.7779\n",
      "Epoch 2/100\n",
      "5634/5634 [==============================] - 0s 46us/step - loss: 0.4430 - acc: 0.7813 - val_loss: 0.4501 - val_acc: 0.7892\n",
      "Epoch 3/100\n",
      "5634/5634 [==============================] - 0s 32us/step - loss: 0.4297 - acc: 0.7906 - val_loss: 0.4469 - val_acc: 0.7921\n",
      "Epoch 4/100\n",
      "5634/5634 [==============================] - 0s 37us/step - loss: 0.4230 - acc: 0.7973 - val_loss: 0.4461 - val_acc: 0.7850\n",
      "Epoch 5/100\n",
      "5634/5634 [==============================] - 0s 32us/step - loss: 0.4197 - acc: 0.7980 - val_loss: 0.4459 - val_acc: 0.7821\n",
      "Epoch 6/100\n",
      "5634/5634 [==============================] - 0s 41us/step - loss: 0.4175 - acc: 0.7989 - val_loss: 0.4435 - val_acc: 0.7928\n",
      "Epoch 7/100\n",
      "5634/5634 [==============================] - 0s 41us/step - loss: 0.4167 - acc: 0.7980 - val_loss: 0.4453 - val_acc: 0.7892\n",
      "Epoch 8/100\n",
      "5634/5634 [==============================] - 0s 39us/step - loss: 0.4155 - acc: 0.7982 - val_loss: 0.4434 - val_acc: 0.7871\n",
      "Epoch 9/100\n",
      "5634/5634 [==============================] - 0s 44us/step - loss: 0.4151 - acc: 0.8009 - val_loss: 0.4414 - val_acc: 0.7935\n",
      "Epoch 10/100\n",
      "5634/5634 [==============================] - 0s 47us/step - loss: 0.4139 - acc: 0.7989 - val_loss: 0.4431 - val_acc: 0.7864\n",
      "Epoch 11/100\n",
      "5634/5634 [==============================] - 0s 38us/step - loss: 0.4134 - acc: 0.8032 - val_loss: 0.4407 - val_acc: 0.7892\n",
      "Epoch 12/100\n",
      "5634/5634 [==============================] - 0s 49us/step - loss: 0.4126 - acc: 0.8037 - val_loss: 0.4412 - val_acc: 0.7878\n",
      "Epoch 13/100\n",
      "5634/5634 [==============================] - 0s 57us/step - loss: 0.4116 - acc: 0.8003 - val_loss: 0.4421 - val_acc: 0.7835\n",
      "Epoch 14/100\n",
      "5634/5634 [==============================] - 0s 46us/step - loss: 0.4114 - acc: 0.8032 - val_loss: 0.4427 - val_acc: 0.7793\n",
      "Epoch 15/100\n",
      "5634/5634 [==============================] - 0s 55us/step - loss: 0.4107 - acc: 0.8040 - val_loss: 0.4431 - val_acc: 0.7906\n",
      "Epoch 16/100\n",
      "5634/5634 [==============================] - 0s 46us/step - loss: 0.4110 - acc: 0.8010 - val_loss: 0.4429 - val_acc: 0.7857\n",
      "Epoch 17/100\n",
      "5634/5634 [==============================] - 0s 45us/step - loss: 0.4103 - acc: 0.8021 - val_loss: 0.4424 - val_acc: 0.7885\n",
      "Epoch 18/100\n",
      "5634/5634 [==============================] - 0s 46us/step - loss: 0.4094 - acc: 0.8035 - val_loss: 0.4415 - val_acc: 0.7871\n",
      "Epoch 19/100\n",
      "5634/5634 [==============================] - 0s 45us/step - loss: 0.4091 - acc: 0.8033 - val_loss: 0.4440 - val_acc: 0.7807\n",
      "Epoch 20/100\n",
      "5634/5634 [==============================] - 0s 45us/step - loss: 0.4092 - acc: 0.7994 - val_loss: 0.4432 - val_acc: 0.7793\n",
      "Epoch 21/100\n",
      "5634/5634 [==============================] - 0s 48us/step - loss: 0.4093 - acc: 0.8048 - val_loss: 0.4421 - val_acc: 0.7892\n",
      "Epoch 22/100\n",
      "5634/5634 [==============================] - 0s 36us/step - loss: 0.4084 - acc: 0.8042 - val_loss: 0.4424 - val_acc: 0.7771\n",
      "Epoch 23/100\n",
      "5634/5634 [==============================] - 0s 35us/step - loss: 0.4085 - acc: 0.8026 - val_loss: 0.4419 - val_acc: 0.7892\n",
      "Epoch 24/100\n",
      "5634/5634 [==============================] - 0s 43us/step - loss: 0.4083 - acc: 0.8053 - val_loss: 0.4406 - val_acc: 0.7885\n",
      "Epoch 25/100\n",
      "5634/5634 [==============================] - 0s 42us/step - loss: 0.4079 - acc: 0.8021 - val_loss: 0.4446 - val_acc: 0.7878\n",
      "Epoch 26/100\n",
      "5634/5634 [==============================] - 0s 43us/step - loss: 0.4082 - acc: 0.8005 - val_loss: 0.4435 - val_acc: 0.7885\n",
      "Epoch 27/100\n",
      "5634/5634 [==============================] - 0s 45us/step - loss: 0.4085 - acc: 0.8040 - val_loss: 0.4429 - val_acc: 0.7928\n",
      "Epoch 28/100\n",
      "5634/5634 [==============================] - 0s 49us/step - loss: 0.4065 - acc: 0.8042 - val_loss: 0.4411 - val_acc: 0.7906\n",
      "Epoch 29/100\n",
      "5634/5634 [==============================] - 0s 43us/step - loss: 0.4067 - acc: 0.8028 - val_loss: 0.4418 - val_acc: 0.7963\n",
      "Epoch 30/100\n",
      "5634/5634 [==============================] - 0s 35us/step - loss: 0.4062 - acc: 0.8028 - val_loss: 0.4427 - val_acc: 0.7935\n",
      "Epoch 31/100\n",
      "5634/5634 [==============================] - 0s 36us/step - loss: 0.4067 - acc: 0.8040 - val_loss: 0.4406 - val_acc: 0.7928\n",
      "Epoch 32/100\n",
      "5634/5634 [==============================] - 0s 34us/step - loss: 0.4070 - acc: 0.7996 - val_loss: 0.4417 - val_acc: 0.7956\n",
      "Epoch 33/100\n",
      "5634/5634 [==============================] - 0s 34us/step - loss: 0.4062 - acc: 0.8019 - val_loss: 0.4416 - val_acc: 0.7779\n",
      "Epoch 34/100\n",
      "5634/5634 [==============================] - 0s 37us/step - loss: 0.4061 - acc: 0.8053 - val_loss: 0.4422 - val_acc: 0.7807\n",
      "Epoch 35/100\n",
      "5634/5634 [==============================] - 0s 43us/step - loss: 0.4057 - acc: 0.8021 - val_loss: 0.4399 - val_acc: 0.7821\n",
      "Epoch 36/100\n",
      "5634/5634 [==============================] - 0s 33us/step - loss: 0.4064 - acc: 0.8023 - val_loss: 0.4420 - val_acc: 0.7885\n",
      "Epoch 37/100\n",
      "5634/5634 [==============================] - 0s 31us/step - loss: 0.4055 - acc: 0.8046 - val_loss: 0.4409 - val_acc: 0.7942\n",
      "Epoch 38/100\n",
      "5634/5634 [==============================] - 0s 57us/step - loss: 0.4054 - acc: 0.8032 - val_loss: 0.4415 - val_acc: 0.7864\n",
      "Epoch 39/100\n",
      "5634/5634 [==============================] - 0s 45us/step - loss: 0.4061 - acc: 0.8019 - val_loss: 0.4411 - val_acc: 0.7928\n",
      "Epoch 40/100\n",
      "5634/5634 [==============================] - 0s 36us/step - loss: 0.4053 - acc: 0.8071 - val_loss: 0.4423 - val_acc: 0.7786\n",
      "Epoch 41/100\n",
      "5634/5634 [==============================] - 0s 36us/step - loss: 0.4048 - acc: 0.8035 - val_loss: 0.4397 - val_acc: 0.7935\n",
      "Epoch 42/100\n",
      "5634/5634 [==============================] - 0s 44us/step - loss: 0.4043 - acc: 0.8042 - val_loss: 0.4416 - val_acc: 0.7835\n",
      "Epoch 43/100\n",
      "5634/5634 [==============================] - 0s 35us/step - loss: 0.4039 - acc: 0.8033 - val_loss: 0.4422 - val_acc: 0.7956\n",
      "Epoch 44/100\n",
      "5634/5634 [==============================] - 0s 45us/step - loss: 0.4045 - acc: 0.8010 - val_loss: 0.4410 - val_acc: 0.7899\n",
      "Epoch 45/100\n",
      "5634/5634 [==============================] - 0s 43us/step - loss: 0.4046 - acc: 0.8049 - val_loss: 0.4458 - val_acc: 0.7942\n",
      "Epoch 46/100\n",
      "5634/5634 [==============================] - 0s 36us/step - loss: 0.4042 - acc: 0.8058 - val_loss: 0.4404 - val_acc: 0.7842\n",
      "Epoch 47/100\n",
      "5634/5634 [==============================] - 0s 33us/step - loss: 0.4039 - acc: 0.8044 - val_loss: 0.4422 - val_acc: 0.7984\n",
      "Epoch 48/100\n",
      "5634/5634 [==============================] - 0s 40us/step - loss: 0.4033 - acc: 0.8051 - val_loss: 0.4451 - val_acc: 0.7942\n",
      "Epoch 49/100\n",
      "5634/5634 [==============================] - 0s 35us/step - loss: 0.4036 - acc: 0.8032 - val_loss: 0.4414 - val_acc: 0.7913\n",
      "Epoch 50/100\n",
      "5634/5634 [==============================] - 0s 37us/step - loss: 0.4035 - acc: 0.8060 - val_loss: 0.4421 - val_acc: 0.7892\n",
      "Epoch 51/100\n",
      "5634/5634 [==============================] - 0s 34us/step - loss: 0.4032 - acc: 0.8046 - val_loss: 0.4416 - val_acc: 0.7892\n",
      "Epoch 52/100\n",
      "5634/5634 [==============================] - 0s 36us/step - loss: 0.4026 - acc: 0.8033 - val_loss: 0.4403 - val_acc: 0.7821\n",
      "Epoch 53/100\n",
      "5634/5634 [==============================] - 0s 40us/step - loss: 0.4037 - acc: 0.8051 - val_loss: 0.4411 - val_acc: 0.7835\n",
      "Epoch 54/100\n",
      "5634/5634 [==============================] - 0s 29us/step - loss: 0.4025 - acc: 0.8039 - val_loss: 0.4427 - val_acc: 0.7942\n",
      "Epoch 55/100\n",
      "5634/5634 [==============================] - 0s 30us/step - loss: 0.4030 - acc: 0.8049 - val_loss: 0.4432 - val_acc: 0.7999\n",
      "Epoch 56/100\n",
      "5634/5634 [==============================] - 0s 29us/step - loss: 0.4031 - acc: 0.8051 - val_loss: 0.4397 - val_acc: 0.7921\n",
      "Epoch 57/100\n",
      "5634/5634 [==============================] - 0s 32us/step - loss: 0.4032 - acc: 0.8030 - val_loss: 0.4415 - val_acc: 0.7928\n",
      "Epoch 58/100\n",
      "5634/5634 [==============================] - 0s 26us/step - loss: 0.4022 - acc: 0.8065 - val_loss: 0.4395 - val_acc: 0.7942\n",
      "Epoch 59/100\n",
      "5634/5634 [==============================] - 0s 46us/step - loss: 0.4020 - acc: 0.8044 - val_loss: 0.4423 - val_acc: 0.7921\n",
      "Epoch 60/100\n"
     ]
    },
    {
     "name": "stdout",
     "output_type": "stream",
     "text": [
      "5634/5634 [==============================] - 0s 44us/step - loss: 0.4023 - acc: 0.8024 - val_loss: 0.4406 - val_acc: 0.7949\n",
      "Epoch 61/100\n",
      "5634/5634 [==============================] - 0s 55us/step - loss: 0.4022 - acc: 0.8039 - val_loss: 0.4445 - val_acc: 0.7864\n",
      "Epoch 62/100\n",
      "5634/5634 [==============================] - 0s 45us/step - loss: 0.4027 - acc: 0.8055 - val_loss: 0.4411 - val_acc: 0.7885\n",
      "Epoch 63/100\n",
      "5634/5634 [==============================] - 0s 43us/step - loss: 0.4020 - acc: 0.8040 - val_loss: 0.4413 - val_acc: 0.7871\n",
      "Epoch 64/100\n",
      "5634/5634 [==============================] - 0s 37us/step - loss: 0.4018 - acc: 0.8040 - val_loss: 0.4405 - val_acc: 0.7949\n",
      "Epoch 65/100\n",
      "5634/5634 [==============================] - 0s 45us/step - loss: 0.4019 - acc: 0.8048 - val_loss: 0.4410 - val_acc: 0.7921\n",
      "Epoch 66/100\n",
      "5634/5634 [==============================] - 0s 45us/step - loss: 0.4017 - acc: 0.8065 - val_loss: 0.4415 - val_acc: 0.7949\n",
      "Epoch 67/100\n",
      "5634/5634 [==============================] - 0s 56us/step - loss: 0.4013 - acc: 0.8042 - val_loss: 0.4434 - val_acc: 0.7885\n",
      "Epoch 68/100\n",
      "5634/5634 [==============================] - 0s 37us/step - loss: 0.4013 - acc: 0.8030 - val_loss: 0.4435 - val_acc: 0.7913\n",
      "Epoch 69/100\n",
      "5634/5634 [==============================] - 0s 50us/step - loss: 0.4011 - acc: 0.8103 - val_loss: 0.4435 - val_acc: 0.7807\n",
      "Epoch 70/100\n",
      "5634/5634 [==============================] - 0s 41us/step - loss: 0.4024 - acc: 0.8033 - val_loss: 0.4428 - val_acc: 0.7906\n",
      "Epoch 71/100\n",
      "5634/5634 [==============================] - 0s 31us/step - loss: 0.4012 - acc: 0.8078 - val_loss: 0.4418 - val_acc: 0.7949\n",
      "Epoch 72/100\n",
      "5634/5634 [==============================] - 0s 49us/step - loss: 0.4010 - acc: 0.8071 - val_loss: 0.4406 - val_acc: 0.7913\n",
      "Epoch 73/100\n",
      "5634/5634 [==============================] - 0s 51us/step - loss: 0.4009 - acc: 0.8035 - val_loss: 0.4415 - val_acc: 0.7857\n",
      "Epoch 74/100\n",
      "5634/5634 [==============================] - 0s 45us/step - loss: 0.4009 - acc: 0.8051 - val_loss: 0.4422 - val_acc: 0.7913\n",
      "Epoch 75/100\n",
      "5634/5634 [==============================] - 0s 56us/step - loss: 0.4005 - acc: 0.8053 - val_loss: 0.4405 - val_acc: 0.7913\n",
      "Epoch 76/100\n",
      "5634/5634 [==============================] - 0s 37us/step - loss: 0.4011 - acc: 0.8074 - val_loss: 0.4442 - val_acc: 0.7850\n",
      "Epoch 77/100\n",
      "5634/5634 [==============================] - 0s 35us/step - loss: 0.4006 - acc: 0.8039 - val_loss: 0.4418 - val_acc: 0.7921\n",
      "Epoch 78/100\n",
      "5634/5634 [==============================] - 0s 54us/step - loss: 0.3998 - acc: 0.8060 - val_loss: 0.4417 - val_acc: 0.7899\n",
      "Epoch 79/100\n",
      "5634/5634 [==============================] - 0s 42us/step - loss: 0.4001 - acc: 0.8040 - val_loss: 0.4412 - val_acc: 0.7942\n",
      "Epoch 80/100\n",
      "5634/5634 [==============================] - 0s 39us/step - loss: 0.3999 - acc: 0.8064 - val_loss: 0.4464 - val_acc: 0.7935\n",
      "Epoch 81/100\n",
      "5634/5634 [==============================] - 0s 45us/step - loss: 0.3998 - acc: 0.8080 - val_loss: 0.4416 - val_acc: 0.7871\n",
      "Epoch 82/100\n",
      "5634/5634 [==============================] - 0s 47us/step - loss: 0.4008 - acc: 0.8016 - val_loss: 0.4426 - val_acc: 0.7921\n",
      "Epoch 83/100\n",
      "5634/5634 [==============================] - 0s 48us/step - loss: 0.4004 - acc: 0.8033 - val_loss: 0.4421 - val_acc: 0.7892\n",
      "Epoch 84/100\n",
      "5634/5634 [==============================] - 0s 43us/step - loss: 0.3996 - acc: 0.8071 - val_loss: 0.4423 - val_acc: 0.7949\n",
      "Epoch 85/100\n",
      "5634/5634 [==============================] - 0s 46us/step - loss: 0.3996 - acc: 0.8028 - val_loss: 0.4420 - val_acc: 0.7921\n",
      "Epoch 86/100\n",
      "5634/5634 [==============================] - 0s 54us/step - loss: 0.3996 - acc: 0.8053 - val_loss: 0.4406 - val_acc: 0.7963\n",
      "Epoch 87/100\n",
      "5634/5634 [==============================] - 0s 30us/step - loss: 0.3997 - acc: 0.8056 - val_loss: 0.4435 - val_acc: 0.7814\n",
      "Epoch 88/100\n",
      "5634/5634 [==============================] - 0s 26us/step - loss: 0.4003 - acc: 0.8049 - val_loss: 0.4406 - val_acc: 0.7864\n",
      "Epoch 89/100\n",
      "5634/5634 [==============================] - 0s 33us/step - loss: 0.3989 - acc: 0.8067 - val_loss: 0.4408 - val_acc: 0.7913\n",
      "Epoch 90/100\n",
      "5634/5634 [==============================] - 0s 32us/step - loss: 0.3993 - acc: 0.8051 - val_loss: 0.4418 - val_acc: 0.7913\n",
      "Epoch 91/100\n",
      "5634/5634 [==============================] - 0s 45us/step - loss: 0.3990 - acc: 0.8106 - val_loss: 0.4418 - val_acc: 0.7913\n",
      "Epoch 92/100\n",
      "5634/5634 [==============================] - 0s 44us/step - loss: 0.3988 - acc: 0.8060 - val_loss: 0.4443 - val_acc: 0.7892\n",
      "Epoch 93/100\n",
      "5634/5634 [==============================] - 0s 47us/step - loss: 0.3977 - acc: 0.8064 - val_loss: 0.4425 - val_acc: 0.7857\n",
      "Epoch 94/100\n",
      "5634/5634 [==============================] - 0s 46us/step - loss: 0.3990 - acc: 0.8056 - val_loss: 0.4429 - val_acc: 0.7921\n",
      "Epoch 95/100\n",
      "5634/5634 [==============================] - 0s 46us/step - loss: 0.3990 - acc: 0.8046 - val_loss: 0.4417 - val_acc: 0.7913\n",
      "Epoch 96/100\n",
      "5634/5634 [==============================] - 0s 40us/step - loss: 0.3988 - acc: 0.8071 - val_loss: 0.4428 - val_acc: 0.7857\n",
      "Epoch 97/100\n",
      "5634/5634 [==============================] - 0s 50us/step - loss: 0.3989 - acc: 0.8058 - val_loss: 0.4419 - val_acc: 0.7928\n",
      "Epoch 98/100\n",
      "5634/5634 [==============================] - 0s 48us/step - loss: 0.3989 - acc: 0.8080 - val_loss: 0.4422 - val_acc: 0.7878\n",
      "Epoch 99/100\n",
      "5634/5634 [==============================] - 0s 45us/step - loss: 0.3985 - acc: 0.8074 - val_loss: 0.4429 - val_acc: 0.7878\n",
      "Epoch 100/100\n",
      "5634/5634 [==============================] - 0s 40us/step - loss: 0.3982 - acc: 0.8049 - val_loss: 0.4457 - val_acc: 0.7892\n"
     ]
    },
    {
     "data": {
      "text/plain": [
       "<keras.callbacks.History at 0x27a1092ca90>"
      ]
     },
     "execution_count": 52,
     "metadata": {},
     "output_type": "execute_result"
    }
   ],
   "source": [
    "model.fit(X_train, y_train, batch_size=50, epochs=100, validation_data=(X_test, y_test))"
   ]
  },
  {
   "cell_type": "markdown",
   "metadata": {
    "colab_type": "text",
    "id": "1GhvMH8t7blr"
   },
   "source": [
    "## Prediction"
   ]
  },
  {
   "cell_type": "code",
   "execution_count": 53,
   "metadata": {
    "colab": {
     "base_uri": "https://localhost:8080/",
     "height": 34
    },
    "colab_type": "code",
    "id": "goiL9kcfZ9BQ",
    "outputId": "997b550d-2e34-446a-e45e-eba2622cd20a"
   },
   "outputs": [
    {
     "data": {
      "text/plain": [
       "array([[0.10125772],\n",
       "       [0.1822359 ],\n",
       "       [0.27541548],\n",
       "       ...,\n",
       "       [0.2662772 ],\n",
       "       [0.29509574],\n",
       "       [0.6065571 ]], dtype=float32)"
      ]
     },
     "execution_count": 53,
     "metadata": {},
     "output_type": "execute_result"
    }
   ],
   "source": [
    "# test data로 예측\n",
    "y_pred_prob = model.predict(X_test)\n",
    "y_pred_prob.shape\n",
    "y_pred_prob"
   ]
  },
  {
   "cell_type": "code",
   "execution_count": 57,
   "metadata": {},
   "outputs": [],
   "source": [
    "dnn_recall = np.zeros_like(p_range)\n",
    "dnn_acc = np.zeros_like(p_range)"
   ]
  },
  {
   "cell_type": "code",
   "execution_count": 58,
   "metadata": {},
   "outputs": [],
   "source": [
    "for i in range(len(p_range)) :\n",
    "    y_pred = np.zeros_like(y_pred_prob)\n",
    "    y_pred[np.where(y_pred_prob>=p_range[i])]=1\n",
    "    y_pred[np.where(y_pred_prob<p_range[i])]=0\n",
    "    \n",
    "    dnn_recall[i] = recall_score(y_test, y_pred, average=None)[1]\n",
    "    dnn_acc[i] = accuracy_score(y_test,y_pred)"
   ]
  },
  {
   "cell_type": "code",
   "execution_count": 59,
   "metadata": {},
   "outputs": [
    {
     "data": {
      "text/plain": [
       "<matplotlib.legend.Legend at 0x27a10f03eb8>"
      ]
     },
     "execution_count": 59,
     "metadata": {},
     "output_type": "execute_result"
    },
    {
     "data": {
      "image/png": "[encoded data removed]",
      "text/plain": [
       "<Figure size 432x288 with 1 Axes>"
      ]
     },
     "metadata": {
      "needs_background": "light"
     },
     "output_type": "display_data"
    }
   ],
   "source": [
    "plt.plot(p_range,dnn_recall,label = \"recall\")\n",
    "plt.plot(p_range,dnn_acc, label = \"accuracy\")\n",
    "plt.legend()"
   ]
  },
  {
   "cell_type": "code",
   "execution_count": 68,
   "metadata": {
    "_uuid": "f974ba364686e98874fd660ced989c637e9dd1e5",
    "colab": {},
    "colab_type": "code",
    "id": "HEJIlVR3PxcL"
   },
   "outputs": [],
   "source": [
    "y_pred = (y_pred_prob > 0.3).astype('int')   # 확률로 예측된 값을 0, 1로 바꿔줌"
   ]
  },
  {
   "cell_type": "code",
   "execution_count": 69,
   "metadata": {
    "_uuid": "51b0fd736d114e2b56f7e7248adfce0779cb0302",
    "colab": {
     "base_uri": "https://localhost:8080/",
     "height": 174
    },
    "colab_type": "code",
    "id": "EyFkdHb8PxcN",
    "outputId": "d0060ba2-343d-40b7-8e04-7534ef9be059"
   },
   "outputs": [
    {
     "name": "stdout",
     "output_type": "stream",
     "text": [
      "              precision    recall  f1-score   support\n",
      "\n",
      "           0       0.89      0.69      0.78      1041\n",
      "           1       0.47      0.77      0.58       368\n",
      "\n",
      "   micro avg       0.71      0.71      0.71      1409\n",
      "   macro avg       0.68      0.73      0.68      1409\n",
      "weighted avg       0.78      0.71      0.73      1409\n",
      "\n"
     ]
    }
   ],
   "source": [
    "print(classification_report(y_test,y_pred))"
   ]
  },
  {
   "cell_type": "code",
   "execution_count": 70,
   "metadata": {
    "_uuid": "07570019527b1e72699052c53650cd054ecc868b",
    "colab": {
     "base_uri": "https://localhost:8080/",
     "height": 378
    },
    "colab_type": "code",
    "id": "hHsLdbEOPxcP",
    "outputId": "7479b80e-2679-42a4-b785-a07ace137aca"
   },
   "outputs": [
    {
     "data": {
      "text/plain": [
       "Text(91.68, 0.5, 'predicted label')"
      ]
     },
     "execution_count": 70,
     "metadata": {},
     "output_type": "execute_result"
    },
    {
     "data": {
      "image/png": "[encoded data removed]",
      "text/plain": [
       "<Figure size 432x288 with 1 Axes>"
      ]
     },
     "metadata": {
      "needs_background": "light"
     },
     "output_type": "display_data"
    }
   ],
   "source": [
    "# Confusion Matrix\n",
    "mat_ann = confusion_matrix(y_test, y_pred)\n",
    "sns.heatmap(mat_ann.T, square=True, annot=True, fmt='d', cbar=False,\n",
    "          xticklabels=['No','Yes'],\n",
    "          yticklabels=['No','Yes'] )\n",
    "plt.xlabel('true label')\n",
    "plt.ylabel('predicted label')"
   ]
  },
  {
   "cell_type": "code",
   "execution_count": null,
   "metadata": {},
   "outputs": [],
   "source": []
  }
 ],
 "metadata": {
  "accelerator": "GPU",
  "colab": {
   "collapsed_sections": [],
   "name": "Churn_DNN2",
   "provenance": [],
   "version": "0.3.2"
  },
  "kernelspec": {
   "display_name": "Python 3",
   "language": "python",
   "name": "python3"
  },
  "language_info": {
   "codemirror_mode": {
    "name": "ipython",
    "version": 3
   },
   "file_extension": ".py",
   "mimetype": "text/x-python",
   "name": "python",
   "nbconvert_exporter": "python",
   "pygments_lexer": "ipython3",
   "version": "3.6.7"
  }
 },
 "nbformat": 4,
 "nbformat_minor": 1
}
